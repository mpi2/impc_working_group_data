{
 "cells": [
  {
   "cell_type": "code",
   "execution_count": 1,
   "id": "50ee814b-f79d-49da-8647-22caa1860c6f",
   "metadata": {},
   "outputs": [],
   "source": [
    "# Import needed libraries.\n",
    "from pathlib import Path\n",
    "\n",
    "import pandas as pd\n",
    "\n",
    "from impc_api import batch_solr_request, solr_request"
   ]
  },
  {
   "cell_type": "code",
   "execution_count": 2,
   "id": "13fa9bd4-138c-4e7d-950a-0611d5d77be2",
   "metadata": {},
   "outputs": [],
   "source": [
    "def fetch_children(mp_id):\n",
    "    num_found, df = solr_request(\n",
    "        core='mp',\n",
    "        params={\n",
    "            'q': f'mp_id:\"{mp_id}\"',\n",
    "            'fl': 'child_mp_id',\n",
    "            'rows': 100\n",
    "        },\n",
    "        silent=True\n",
    "    )\n",
    "\n",
    "    if num_found == 0 or 'child_mp_id' not in df.columns:\n",
    "        return []\n",
    "\n",
    "    if num_found > 100:\n",
    "        raise ValueError(f\"Too many results found: {num_found}. Aborting.\")\n",
    "\n",
    "    df = df.explode('child_mp_id').dropna(subset=['child_mp_id'])\n",
    "    return df['child_mp_id'].unique().tolist()\n",
    "\n",
    "def fetch_all_descendants(mp_id):\n",
    "    visited = set()\n",
    "    queue = [mp_id]\n",
    "    all_terms = [mp_id]\n",
    "\n",
    "    while queue:\n",
    "        current = queue.pop(0)\n",
    "        if current in visited:\n",
    "            continue\n",
    "        visited.add(current)\n",
    "\n",
    "        children = fetch_children(current)\n",
    "        new_terms = [child for child in children if child not in visited]\n",
    "\n",
    "        all_terms.extend(new_terms)\n",
    "        queue.extend(new_terms)\n",
    "\n",
    "    return all_terms\n",
    "\n",
    "def filter_impc_mp_ids(mp_ids):\n",
    "    valid_terms = []\n",
    "\n",
    "    for mp_id in mp_ids:\n",
    "        # Check MP core.\n",
    "        num_found_mp, df_mp = solr_request(\n",
    "            core='mp',\n",
    "            params={\n",
    "                'q': f'mp_id:\"{mp_id}\"',\n",
    "                'fl': 'mp_id, mp_term',\n",
    "                'rows': 100\n",
    "            },\n",
    "            silent=True\n",
    "        )\n",
    "\n",
    "        if num_found_mp == 1:\n",
    "            # Check statistical results core.\n",
    "            num_found_stat, _ = solr_request(\n",
    "                core='statistical-result',\n",
    "                params={\n",
    "                    'q': f'mp_term_id_options:\"{mp_id}\"',\n",
    "                    'fl': 'mp_term_id_options',\n",
    "                    'rows': 1\n",
    "                },\n",
    "                silent=True\n",
    "            )\n",
    "            if num_found_stat > 0:\n",
    "                valid_terms.append(mp_id)\n",
    "\n",
    "    return valid_terms\n",
    "\n",
    "def fetch_statistical_data(mp_id, fields):\n",
    "    all_descendants = fetch_all_descendants(mp_id)\n",
    "    mp_term_list = filter_impc_mp_ids(all_descendants)\n",
    "\n",
    "    query = \" OR \".join(f'mp_term_id_options:\"{term}\"' for term in mp_term_list)\n",
    "    params = {\n",
    "        'q': query,\n",
    "        'fl': fields\n",
    "    }\n",
    "\n",
    "    return batch_solr_request(core='statistical-result', params=params, download=False)\n",
    "\n",
    "\n",
    "def summarise_colony_significance(df, term_name):\n",
    "    if df is None or df.empty:\n",
    "        print(f\"- {term_name.upper()}: No data found.\\n\")\n",
    "        return\n",
    "\n",
    "    df = df.drop(columns=['parameter_stable_id'], errors='ignore')\n",
    "\n",
    "    # Convert lists to strings.\n",
    "    for col in df.columns:\n",
    "        if df[col].apply(lambda x: isinstance(x, list)).any():\n",
    "            df[col] = df[col].apply(str)\n",
    "\n",
    "    df = df.drop_duplicates()\n",
    "\n",
    "    # Save deduplicated data.\n",
    "    output_dir = Path(\"output\")\n",
    "    output_dir.mkdir(exist_ok=True)\n",
    "\n",
    "    filename = f\"{term_name.lower().replace(' ', '_')}_deduplicated.csv\"\n",
    "    filepath = output_dir / filename\n",
    "    df.to_csv(filepath, index=False)\n",
    "    print(f\"Saved deduplicated data to: {filepath}\")\n",
    "\n",
    "    # Calculate significance.\n",
    "    grouped = df.groupby(\n",
    "        ['colony_id', 'allele_symbol', 'marker_symbol', 'pipeline_stable_id']\n",
    "    )['significant']\n",
    "\n",
    "    summary = grouped.any().reset_index()\n",
    "\n",
    "    count_true = summary['significant'].sum()\n",
    "    count_false = len(summary) - count_true\n",
    "\n",
    "    print(f\"- {term_name.upper()}\")\n",
    "    print(f\"Significant lines: {count_true}\")\n",
    "    print(f\"Non-significant lines: {count_false}\")\n",
    "    print(f\"Total lines: {count_true + count_false}\\n\")\n",
    "\n",
    "requested_fields = [\n",
    "    'allele_symbol',\n",
    "    'colony_id',\n",
    "    'marker_symbol',\n",
    "    'mp_term_id_options',\n",
    "    'parameter_stable_id',\n",
    "    'pipeline_stable_id',\n",
    "    'significant'\n",
    "]\n",
    "requested_fields = ','.join(requested_fields)"
   ]
  },
  {
   "cell_type": "markdown",
   "id": "a2c69939-b5db-49b2-af5c-42eb2c8b197c",
   "metadata": {},
   "source": [
    "## Number of lines assessed for otic vesicle morphology"
   ]
  },
  {
   "cell_type": "code",
   "execution_count": 3,
   "id": "263bf4d2-486d-4b60-952f-799b943d7fd3",
   "metadata": {},
   "outputs": [
    {
     "name": "stdout",
     "output_type": "stream",
     "text": [
      "Number of found documents: 1116\n"
     ]
    },
    {
     "name": "stderr",
     "output_type": "stream",
     "text": [
      "5000it [00:00, 54841.98it/s]                                                                                                                                    "
     ]
    },
    {
     "name": "stdout",
     "output_type": "stream",
     "text": [
      "Saved deduplicated data to: output/otic_vesicle_morphology_deduplicated.csv\n",
      "- OTIC VESICLE MORPHOLOGY\n",
      "Significant lines: 7\n",
      "Non-significant lines: 812\n",
      "Total lines: 819\n",
      "\n"
     ]
    },
    {
     "name": "stderr",
     "output_type": "stream",
     "text": [
      "\n"
     ]
    }
   ],
   "source": [
    "df = fetch_statistical_data(\"MP:0009806\", requested_fields)\n",
    "summarise_colony_significance(df, \"Otic vesicle morphology\")"
   ]
  },
  {
   "cell_type": "markdown",
   "id": "524f81dd-7dba-4fdf-b455-a9f97317c40c",
   "metadata": {},
   "source": [
    "## Number of lines assessed for ABR"
   ]
  },
  {
   "cell_type": "code",
   "execution_count": 4,
   "id": "1910b05d-b0e2-4751-8024-3903a94ac788",
   "metadata": {},
   "outputs": [
    {
     "name": "stdout",
     "output_type": "stream",
     "text": [
      "Number of found documents: 43941\n"
     ]
    },
    {
     "name": "stderr",
     "output_type": "stream",
     "text": [
      "45000it [00:02, 18178.79it/s]                                                                                                                                   "
     ]
    },
    {
     "name": "stdout",
     "output_type": "stream",
     "text": [
      "Saved deduplicated data to: output/auditory_brainstem_response_deduplicated.csv\n",
      "- AUDITORY BRAINSTEM RESPONSE\n",
      "Significant lines: 335\n",
      "Non-significant lines: 6835\n",
      "Total lines: 7170\n",
      "\n"
     ]
    },
    {
     "name": "stderr",
     "output_type": "stream",
     "text": [
      "\n"
     ]
    }
   ],
   "source": [
    "df = fetch_statistical_data('MP:0004738', requested_fields)\n",
    "summarise_colony_significance(df, \"Auditory brainstem response\")"
   ]
  },
  {
   "cell_type": "markdown",
   "id": "724faca3-e517-451d-8696-6fd94d2fdc51",
   "metadata": {},
   "source": [
    "## Number of lines examined for retinal abnormalities"
   ]
  },
  {
   "cell_type": "code",
   "execution_count": 5,
   "id": "df598145-d262-4aad-9127-a7d3660bb3ac",
   "metadata": {},
   "outputs": [
    {
     "name": "stdout",
     "output_type": "stream",
     "text": [
      "Number of found documents: 54872\n"
     ]
    },
    {
     "name": "stderr",
     "output_type": "stream",
     "text": [
      "55000it [00:02, 18690.91it/s]                                                                                                                                   "
     ]
    },
    {
     "name": "stdout",
     "output_type": "stream",
     "text": [
      "Saved deduplicated data to: output/abnormal_retinal_phenotype_deduplicated.csv\n",
      "- ABNORMAL RETINAL PHENOTYPE\n",
      "Significant lines: 817\n",
      "Non-significant lines: 8501\n",
      "Total lines: 9318\n",
      "\n"
     ]
    },
    {
     "name": "stderr",
     "output_type": "stream",
     "text": [
      "\n"
     ]
    }
   ],
   "source": [
    "df = fetch_statistical_data('MP:0001325', requested_fields)\n",
    "summarise_colony_significance(df, \"Abnormal retinal phenotype\")"
   ]
  }
 ],
 "metadata": {
  "kernelspec": {
   "display_name": "Python 3 (ipykernel)",
   "language": "python",
   "name": "python3"
  },
  "language_info": {
   "codemirror_mode": {
    "name": "ipython",
    "version": 3
   },
   "file_extension": ".py",
   "mimetype": "text/x-python",
   "name": "python",
   "nbconvert_exporter": "python",
   "pygments_lexer": "ipython3",
   "version": "3.12.4"
  }
 },
 "nbformat": 4,
 "nbformat_minor": 5
}
