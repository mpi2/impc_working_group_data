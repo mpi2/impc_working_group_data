{
 "cells": [
  {
   "cell_type": "code",
   "execution_count": 1,
   "id": "50ee814b-f79d-49da-8647-22caa1860c6f",
   "metadata": {},
   "outputs": [],
   "source": [
    "# Import needed libraries.\n",
    "import contextlib\n",
    "import io\n",
    "from pathlib import Path\n",
    "\n",
    "import pandas as pd\n",
    "\n",
    "from impc_api import batch_solr_request, solr_request"
   ]
  },
  {
   "cell_type": "code",
   "execution_count": 2,
   "id": "13fa9bd4-138c-4e7d-950a-0611d5d77be2",
   "metadata": {},
   "outputs": [],
   "source": [
    "def download_per_term(mp_term, requested_fields, silent=True):\n",
    "    # Quick check for results.\n",
    "    num_found, _ = solr_request(\n",
    "        core='statistical-result',\n",
    "        params={\n",
    "            'q': f'mp_term_id_options:\"{mp_term}\"',\n",
    "            'rows': 3,\n",
    "            'fl': requested_fields\n",
    "        },\n",
    "        silent=silent\n",
    "    )\n",
    "\n",
    "    if num_found > 0:\n",
    "        if silent:\n",
    "            with contextlib.redirect_stdout(io.StringIO()):\n",
    "                df = batch_solr_request(\n",
    "                    core='statistical-result',\n",
    "                    params={\n",
    "                        'q': f'mp_term_id_options:\"{mp_term}\"',\n",
    "                        'fl': requested_fields\n",
    "                    },\n",
    "                    download=False\n",
    "                )\n",
    "        else:\n",
    "            df = batch_solr_request(\n",
    "                core='statistical-result',\n",
    "                params={\n",
    "                    'q': f'mp_term_id_options:\"{mp_term}\"',\n",
    "                    'fl': requested_fields\n",
    "                },\n",
    "                download=False\n",
    "            )\n",
    "        return df\n",
    "    return None\n",
    "\n",
    "\n",
    "def calculate_colony(df, term_name):\n",
    "    if df is None or df.empty:\n",
    "        print(f\"- {term_name.upper()}: No data found.\\n\")\n",
    "        return\n",
    "\n",
    "    df = df.drop(columns=['parameter_stable_id'], errors='ignore')\n",
    "\n",
    "    # Convert lists to strings.\n",
    "    for col in df.columns:\n",
    "        if df[col].apply(lambda x: isinstance(x, list)).any():\n",
    "            df[col] = df[col].apply(str)\n",
    "\n",
    "    df = df.drop_duplicates()\n",
    "\n",
    "    # Create output directory using pathlib.\n",
    "    output_dir = Path(\"output\")\n",
    "    output_dir.mkdir(exist_ok=True)\n",
    "\n",
    "    # Format filename and save to CSV.\n",
    "    filename = f\"{term_name.lower().replace(' ', '_')}_deduplicated.csv\"\n",
    "    filepath = output_dir / filename\n",
    "    df.to_csv(filepath, index=False)\n",
    "    print(f\"Saved deduplicated data to: {filepath}\")\n",
    "\n",
    "    grouped = df.groupby(\n",
    "        ['colony_id', 'allele_symbol', 'marker_symbol', 'pipeline_stable_id']\n",
    "    )['significant']\n",
    "\n",
    "    significance_per_group = grouped.any().reset_index()\n",
    "\n",
    "    count_true = significance_per_group['significant'].sum()\n",
    "    count_false = len(significance_per_group) - count_true\n",
    "\n",
    "    print(f'- {term_name.upper()}')\n",
    "    print(f\"Number of lines with significant phenotype: {count_true}\")\n",
    "    print(f\"Number of lines without significant result: {count_false}\")\n",
    "    print(f\"Total number of lines: {count_true + count_false}\\n\")\n",
    "\n",
    "requested_fields = [\n",
    "    'allele_symbol',\n",
    "    'colony_id',\n",
    "    'marker_symbol',\n",
    "    'mp_term_id_options',\n",
    "    'parameter_stable_id',\n",
    "    'pipeline_stable_id',\n",
    "    'significant'\n",
    "]\n",
    "requested_fields = ','.join(requested_fields)"
   ]
  },
  {
   "cell_type": "markdown",
   "id": "a2c69939-b5db-49b2-af5c-42eb2c8b197c",
   "metadata": {},
   "source": [
    "## Number of lines assessed for otic vesicle morphology"
   ]
  },
  {
   "cell_type": "code",
   "execution_count": 3,
   "id": "263bf4d2-486d-4b60-952f-799b943d7fd3",
   "metadata": {},
   "outputs": [
    {
     "name": "stderr",
     "output_type": "stream",
     "text": [
      "5000it [00:00, 39346.56it/s]                                                                                                                                               "
     ]
    },
    {
     "name": "stdout",
     "output_type": "stream",
     "text": [
      "Saved deduplicated data to: output/otic_vesicle_morphology_deduplicated.csv\n",
      "- OTIC VESICLE MORPHOLOGY\n",
      "Number of lines with significant phenotype: 7\n",
      "Number of lines without significant result: 812\n",
      "Total number of lines: 819\n",
      "\n"
     ]
    },
    {
     "name": "stderr",
     "output_type": "stream",
     "text": [
      "\n"
     ]
    }
   ],
   "source": [
    "df = download_per_term('MP:0009806', requested_fields)\n",
    "calculate_colony(df, \"Otic vesicle morphology\")"
   ]
  },
  {
   "cell_type": "markdown",
   "id": "524f81dd-7dba-4fdf-b455-a9f97317c40c",
   "metadata": {},
   "source": [
    "## Number of lines assessed for ABR"
   ]
  },
  {
   "cell_type": "code",
   "execution_count": 4,
   "id": "1910b05d-b0e2-4751-8024-3903a94ac788",
   "metadata": {},
   "outputs": [
    {
     "name": "stderr",
     "output_type": "stream",
     "text": [
      "45000it [00:02, 16092.63it/s]                                                                                                                                              "
     ]
    },
    {
     "name": "stdout",
     "output_type": "stream",
     "text": [
      "Saved deduplicated data to: output/auditory_brainstem_response_deduplicated.csv\n",
      "- AUDITORY BRAINSTEM RESPONSE\n",
      "Number of lines with significant phenotype: 335\n",
      "Number of lines without significant result: 6835\n",
      "Total number of lines: 7170\n",
      "\n"
     ]
    },
    {
     "name": "stderr",
     "output_type": "stream",
     "text": [
      "\n"
     ]
    }
   ],
   "source": [
    "df = download_per_term('MP:0004738', requested_fields)\n",
    "calculate_colony(df, \"Auditory brainstem response\")"
   ]
  },
  {
   "cell_type": "markdown",
   "id": "724faca3-e517-451d-8696-6fd94d2fdc51",
   "metadata": {},
   "source": [
    "## Number of lines examined for retinal abnormalities"
   ]
  },
  {
   "cell_type": "code",
   "execution_count": 5,
   "id": "df598145-d262-4aad-9127-a7d3660bb3ac",
   "metadata": {},
   "outputs": [
    {
     "name": "stdout",
     "output_type": "stream",
     "text": [
      "Number of found documents: 14\n"
     ]
    },
    {
     "name": "stderr",
     "output_type": "stream",
     "text": [
      "5000it [00:00, 64688.98it/s]                                                                                                                                               \n",
      "15000it [00:00, 21131.41it/s]                                                                                                                                              \n"
     ]
    },
    {
     "name": "stdout",
     "output_type": "stream",
     "text": [
      "Saved deduplicated data to: output/abnormal_retina_vasculature_morphology_deduplicated.csv\n",
      "- ABNORMAL RETINA VASCULATURE MORPHOLOGY\n",
      "Number of lines with significant phenotype: 201\n",
      "Number of lines without significant result: 9117\n",
      "Total number of lines: 9318\n",
      "\n",
      "- ABNORMAL RETINA NEURONAL LAYER MORPHOLOGY: No data found.\n",
      "\n"
     ]
    },
    {
     "name": "stderr",
     "output_type": "stream",
     "text": [
      "5000it [00:00, 19336.84it/s]                                                                                                                                               \n",
      "  0%|                                                                                                                                             | 0/1643 [00:00<?, ?it/s]"
     ]
    },
    {
     "name": "stdout",
     "output_type": "stream",
     "text": [
      "Saved deduplicated data to: output/increased_total_retina_thickness_deduplicated.csv\n",
      "- INCREASED TOTAL RETINA THICKNESS\n",
      "Number of lines with significant phenotype: 200\n",
      "Number of lines without significant result: 1325\n",
      "Total number of lines: 1525\n",
      "\n"
     ]
    },
    {
     "name": "stderr",
     "output_type": "stream",
     "text": [
      "5000it [00:00, 28499.92it/s]                                                                                                                                               \n",
      "  0%|                                                                                                                                              | 0/831 [00:00<?, ?it/s]"
     ]
    },
    {
     "name": "stdout",
     "output_type": "stream",
     "text": [
      "Saved deduplicated data to: output/abnormal_retina_pigmentation_deduplicated.csv\n",
      "- ABNORMAL RETINA PIGMENTATION\n",
      "Number of lines with significant phenotype: 14\n",
      "Number of lines without significant result: 739\n",
      "Total number of lines: 753\n",
      "\n"
     ]
    },
    {
     "name": "stderr",
     "output_type": "stream",
     "text": [
      "5000it [00:00, 39562.19it/s]                                                                                                                                               \n",
      "  0%|                                                                                                                                             | 0/3626 [00:00<?, ?it/s]"
     ]
    },
    {
     "name": "stdout",
     "output_type": "stream",
     "text": [
      "Saved deduplicated data to: output/retina_degeneration_deduplicated.csv\n",
      "- RETINA DEGENERATION\n",
      "Number of lines with significant phenotype: 0\n",
      "Number of lines without significant result: 380\n",
      "Total number of lines: 380\n",
      "\n"
     ]
    },
    {
     "name": "stderr",
     "output_type": "stream",
     "text": [
      "5000it [00:00, 18911.32it/s]                                                                                                                                               \n",
      "  0%|                                                                                                                                            | 0/12538 [00:00<?, ?it/s]"
     ]
    },
    {
     "name": "stdout",
     "output_type": "stream",
     "text": [
      "Saved deduplicated data to: output/abnormal_total_retina_thickness_deduplicated.csv\n",
      "- ABNORMAL TOTAL RETINA THICKNESS\n",
      "Number of lines with significant phenotype: 200\n",
      "Number of lines without significant result: 1325\n",
      "Total number of lines: 1525\n",
      "\n"
     ]
    },
    {
     "name": "stderr",
     "output_type": "stream",
     "text": [
      "15000it [00:00, 20317.74it/s]                                                                                                                                              \n",
      "  0%|                                                                                                                                             | 0/1643 [00:00<?, ?it/s]"
     ]
    },
    {
     "name": "stdout",
     "output_type": "stream",
     "text": [
      "Saved deduplicated data to: output/abnormal_retina_morphology_deduplicated.csv\n",
      "- ABNORMAL RETINA MORPHOLOGY\n",
      "Number of lines with significant phenotype: 441\n",
      "Number of lines without significant result: 8574\n",
      "Total number of lines: 9015\n",
      "\n"
     ]
    },
    {
     "name": "stderr",
     "output_type": "stream",
     "text": [
      "5000it [00:00, 22096.12it/s]                                                                                                                                               \n"
     ]
    },
    {
     "name": "stdout",
     "output_type": "stream",
     "text": [
      "Saved deduplicated data to: output/abnormal_retina_blood_vessel_pattern_deduplicated.csv\n",
      "- ABNORMAL RETINA BLOOD VESSEL PATTERN\n",
      "Number of lines with significant phenotype: 2\n",
      "Number of lines without significant result: 751\n",
      "Total number of lines: 753\n",
      "\n",
      "- ABNORMAL RETINA LAYER MORPHOLOGY: No data found.\n",
      "\n",
      "- ABNORMAL RETINA PIGMENT EPITHELIUM MORPHOLOGY: No data found.\n",
      "\n"
     ]
    },
    {
     "name": "stderr",
     "output_type": "stream",
     "text": [
      "20000it [00:01, 18295.29it/s]                                                                                                                                              \n",
      "  0%|                                                                                                                                             | 0/2454 [00:00<?, ?it/s]"
     ]
    },
    {
     "name": "stdout",
     "output_type": "stream",
     "text": [
      "Saved deduplicated data to: output/abnormal_retina_blood_vessel_morphology_deduplicated.csv\n",
      "- ABNORMAL RETINA BLOOD VESSEL MORPHOLOGY\n",
      "Number of lines with significant phenotype: 228\n",
      "Number of lines without significant result: 8337\n",
      "Total number of lines: 8565\n",
      "\n"
     ]
    },
    {
     "name": "stderr",
     "output_type": "stream",
     "text": [
      "5000it [00:00, 25816.98it/s]                                                                                                                                               \n",
      "  0%|                                                                                                                                             | 0/2454 [00:00<?, ?it/s]"
     ]
    },
    {
     "name": "stdout",
     "output_type": "stream",
     "text": [
      "Saved deduplicated data to: output/abnormal_retina_outer_nuclear_layer_morphology_deduplicated.csv\n",
      "- ABNORMAL RETINA OUTER NUCLEAR LAYER MORPHOLOGY\n",
      "Number of lines with significant phenotype: 81\n",
      "Number of lines without significant result: 916\n",
      "Total number of lines: 997\n",
      "\n"
     ]
    },
    {
     "name": "stderr",
     "output_type": "stream",
     "text": [
      "5000it [00:00, 26162.79it/s]                                                                                                                                               \n",
      "  0%|                                                                                                                                             | 0/3626 [00:00<?, ?it/s]"
     ]
    },
    {
     "name": "stdout",
     "output_type": "stream",
     "text": [
      "Saved deduplicated data to: output/abnormal_retina_inner_nuclear_layer_morphology_deduplicated.csv\n",
      "- ABNORMAL RETINA INNER NUCLEAR LAYER MORPHOLOGY\n",
      "Number of lines with significant phenotype: 69\n",
      "Number of lines without significant result: 928\n",
      "Total number of lines: 997\n",
      "\n"
     ]
    },
    {
     "name": "stderr",
     "output_type": "stream",
     "text": [
      "5000it [00:00, 20462.02it/s]                                                                                                                                               "
     ]
    },
    {
     "name": "stdout",
     "output_type": "stream",
     "text": [
      "Saved deduplicated data to: output/decreased_total_retina_thickness_deduplicated.csv\n",
      "- DECREASED TOTAL RETINA THICKNESS\n",
      "Number of lines with significant phenotype: 200\n",
      "Number of lines without significant result: 1325\n",
      "Total number of lines: 1525\n",
      "\n"
     ]
    },
    {
     "name": "stderr",
     "output_type": "stream",
     "text": [
      "\n"
     ]
    }
   ],
   "source": [
    "retina_terms = batch_solr_request(\n",
    "    core='mp', \n",
    "    params={\n",
    "        'q': 'mp_term:*retina*',\n",
    "        'fl': 'mp_id, mp_term'\n",
    "    },\n",
    "    download=False\n",
    ")\n",
    "for index, row in retina_terms.iterrows():\n",
    "    df = download_per_term(row[\"mp_id\"], requested_fields)\n",
    "    calculate_colony(df, row[\"mp_term\"])"
   ]
  },
  {
   "cell_type": "code",
   "execution_count": null,
   "id": "63287a16-c193-4c2e-b54a-b86eca5e6fca",
   "metadata": {},
   "outputs": [],
   "source": []
  }
 ],
 "metadata": {
  "kernelspec": {
   "display_name": "Python 3 (ipykernel)",
   "language": "python",
   "name": "python3"
  },
  "language_info": {
   "codemirror_mode": {
    "name": "ipython",
    "version": 3
   },
   "file_extension": ".py",
   "mimetype": "text/x-python",
   "name": "python",
   "nbconvert_exporter": "python",
   "pygments_lexer": "ipython3",
   "version": "3.12.4"
  }
 },
 "nbformat": 4,
 "nbformat_minor": 5
}
