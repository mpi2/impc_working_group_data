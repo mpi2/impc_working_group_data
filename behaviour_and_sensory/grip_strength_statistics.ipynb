{
 "cells": [
  {
   "cell_type": "code",
   "execution_count": 1,
   "id": "42a2e64a-8844-41db-afeb-3cb3ecd6f0c1",
   "metadata": {},
   "outputs": [],
   "source": [
    "from impc_api import solr_request, batch_solr_request\n",
    "import pandas as pd\n",
    "pd.set_option('max_colwidth', None)"
   ]
  },
  {
   "cell_type": "markdown",
   "id": "c9e4f308-6edf-4418-a158-9787d30f5cb4",
   "metadata": {},
   "source": [
    "# Display Overall Statistics"
   ]
  },
  {
   "cell_type": "code",
   "execution_count": 2,
   "id": "94492d6e-8458-44c4-8fbd-cc28d8bb74ba",
   "metadata": {},
   "outputs": [
    {
     "data": {
      "text/html": [
       "<div>\n",
       "<style scoped>\n",
       "    .dataframe tbody tr th:only-of-type {\n",
       "        vertical-align: middle;\n",
       "    }\n",
       "\n",
       "    .dataframe tbody tr th {\n",
       "        vertical-align: top;\n",
       "    }\n",
       "\n",
       "    .dataframe thead th {\n",
       "        text-align: right;\n",
       "    }\n",
       "</style>\n",
       "<table border=\"1\" class=\"dataframe\">\n",
       "  <thead>\n",
       "    <tr style=\"text-align: right;\">\n",
       "      <th></th>\n",
       "      <th>statistical_method</th>\n",
       "      <th>count_per_category</th>\n",
       "    </tr>\n",
       "  </thead>\n",
       "  <tbody>\n",
       "    <tr>\n",
       "      <th>0</th>\n",
       "      <td>Linear Mixed Model framework, LME, not including Weight</td>\n",
       "      <td>19264</td>\n",
       "    </tr>\n",
       "    <tr>\n",
       "      <th>1</th>\n",
       "      <td>Linear Mixed Model framework, LME, including Weight</td>\n",
       "      <td>18626</td>\n",
       "    </tr>\n",
       "    <tr>\n",
       "      <th>2</th>\n",
       "      <td>Linear Model Using Generalized Least Squares framework, GLS, not including Weight</td>\n",
       "      <td>392</td>\n",
       "    </tr>\n",
       "    <tr>\n",
       "      <th>3</th>\n",
       "      <td>Linear Model Using Generalized Least Squares framework, GLS, including Weight</td>\n",
       "      <td>362</td>\n",
       "    </tr>\n",
       "  </tbody>\n",
       "</table>\n",
       "</div>"
      ],
      "text/plain": [
       "                                                                  statistical_method  \\\n",
       "0                            Linear Mixed Model framework, LME, not including Weight   \n",
       "1                                Linear Mixed Model framework, LME, including Weight   \n",
       "2  Linear Model Using Generalized Least Squares framework, GLS, not including Weight   \n",
       "3      Linear Model Using Generalized Least Squares framework, GLS, including Weight   \n",
       "\n",
       "   count_per_category  \n",
       "0               19264  \n",
       "1               18626  \n",
       "2                 392  \n",
       "3                 362  "
      ]
     },
     "execution_count": 2,
     "metadata": {},
     "output_type": "execute_result"
    }
   ],
   "source": [
    "num_found, df = solr_request(\n",
    "    core='statistical-result',\n",
    "    params={\n",
    "         'q': 'procedure_stable_id:*GRS*',\n",
    "         'rows': 0,\n",
    "         'facet': 'on',\n",
    "         'facet.field': 'statistical_method',\n",
    "         'facet.limit': 15,\n",
    "         'facet.mincount': 1,\n",
    "    },\n",
    "    silent=True\n",
    ")\n",
    "df"
   ]
  },
  {
   "cell_type": "markdown",
   "id": "c3491efd-a861-423e-b218-7d9124a65dfc",
   "metadata": {},
   "source": [
    "# Download Statistics per Gene"
   ]
  },
  {
   "cell_type": "code",
   "execution_count": 3,
   "id": "62af2103-d2f6-44c4-8faa-ccdfef9689d9",
   "metadata": {},
   "outputs": [
    {
     "name": "stdout",
     "output_type": "stream",
     "text": [
      "Number of found documents: 73296\n",
      "Downloading file...\n"
     ]
    },
    {
     "name": "stderr",
     "output_type": "stream",
     "text": [
      "75000it [00:03, 21766.39it/s]                                                                                                                                                                       \n"
     ]
    },
    {
     "name": "stdout",
     "output_type": "stream",
     "text": [
      "Your request URL after the last call:https://www.ebi.ac.uk/mi/impc/solr/statistical-result/select?q=procedure_stable_id%3A%2AGRS%2A&fl=marker_symbol%2Cpipeline_stable_id%2Cprocedure_stable_id%2Cprocedure_name%2Cparameter_name%2Cparameter_stable_id%2Cstatistical_method%2Cmale_ko_effect_p_value%2Cfemale_ko_effect_p_value%2Cgenotype_effect_p_value%2Cweight_effect_p_value%2Cweight_effect_parameter_estimate&wt=csv&start=70000&rows=5000\n",
      "File saved as: grs_stats.csv\n",
      "Reading downloaded file...\n",
      "  marker_symbol pipeline_stable_id procedure_stable_id procedure_name  \\\n",
      "0         Ptpra            ICS_001        IMPC_GRS_001  Grip Strength   \n",
      "1         Hpgds            UCD_001        IMPC_GRS_001  Grip Strength   \n",
      "2          Ebf1          UCDIP_001       UCDIP_GRS_001  Grip Strength   \n",
      "3        Defb47            BCM_001        IMPC_GRS_001  Grip Strength   \n",
      "4        Rundc1            MGP_001        IMPC_GRS_001  Grip Strength   \n",
      "\n",
      "                                          parameter_name parameter_stable_id  \\\n",
      "0  Forelimb grip strength normalised against body weight    IMPC_GRS_010_001   \n",
      "1                Forelimb grip strength measurement mean    IMPC_GRS_008_001   \n",
      "2                Forelimb grip strength measurement mean   UCDIP_GRS_008_001   \n",
      "3  Forelimb grip strength normalised against body weight    IMPC_GRS_010_001   \n",
      "4  Forelimb grip strength normalised against body weight    IMPC_GRS_010_001   \n",
      "\n",
      "                                        statistical_method  \\\n",
      "0  Linear Mixed Model framework, LME, not including Weight   \n",
      "1      Linear Mixed Model framework, LME, including Weight   \n",
      "2      Linear Mixed Model framework, LME, including Weight   \n",
      "3  Linear Mixed Model framework, LME, not including Weight   \n",
      "4  Linear Mixed Model framework, LME, not including Weight   \n",
      "\n",
      "   male_ko_effect_p_value  female_ko_effect_p_value  genotype_effect_p_value  \\\n",
      "0                0.467913                  0.000165                 0.000165   \n",
      "1                0.664702                  0.770480                 0.650004   \n",
      "2                0.355046                  0.931934                 0.931934   \n",
      "3                0.499725                  0.098661                 0.122397   \n",
      "4                0.478222                  0.402648                 0.983732   \n",
      "\n",
      "   weight_effect_p_value  weight_effect_parameter_estimate  \n",
      "0                    NaN                               NaN  \n",
      "1           7.676404e-11                          1.638350  \n",
      "2           4.504141e-02                          0.388777  \n",
      "3                    NaN                               NaN  \n",
      "4                    NaN                               NaN  \n"
     ]
    }
   ],
   "source": [
    "requested_fields = [\n",
    "    'marker_symbol',\n",
    "    'pipeline_stable_id',\n",
    "    'procedure_stable_id',\n",
    "    'procedure_name',\n",
    "    'parameter_name',\n",
    "    'parameter_stable_id',\n",
    "    'statistical_method',\n",
    "    'male_ko_effect_p_value',\n",
    "    'female_ko_effect_p_value',\n",
    "    'genotype_effect_p_value',\n",
    "    'weight_effect_p_value',\n",
    "    'weight_effect_parameter_estimate'\n",
    "]\n",
    "\n",
    "df_full = batch_solr_request(\n",
    "    core='statistical-result', \n",
    "    params={\n",
    "        'q': 'procedure_stable_id:*GRS*', \n",
    "        'fl': ','.join(requested_fields),\n",
    "        'wt':'csv'\n",
    "    },\n",
    "    download=True,\n",
    "    filename='grs_stats'\n",
    ")\n",
    "\n",
    "df = df_full.dropna(subset=['statistical_method']).reset_index(drop=True)\n",
    "df.to_csv('grs_stats_analysed.csv', index=False)\n",
    "\n",
    "print(df.head())"
   ]
  }
 ],
 "metadata": {
  "kernelspec": {
   "display_name": "Python 3 (ipykernel)",
   "language": "python",
   "name": "python3"
  },
  "language_info": {
   "codemirror_mode": {
    "name": "ipython",
    "version": 3
   },
   "file_extension": ".py",
   "mimetype": "text/x-python",
   "name": "python",
   "nbconvert_exporter": "python",
   "pygments_lexer": "ipython3",
   "version": "3.12.4"
  }
 },
 "nbformat": 4,
 "nbformat_minor": 5
}
