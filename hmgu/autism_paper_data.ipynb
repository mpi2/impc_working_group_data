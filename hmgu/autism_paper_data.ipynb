{
 "cells": [
  {
   "cell_type": "markdown",
   "id": "4a6a8ca4-02d4-4bad-9528-bbae9f79ad44",
   "metadata": {},
   "source": [
    "# Autism Paper Data\n",
    "Begin with the example of how to customise your query just after preparation step, including:\n",
    "\n",
    "- Filtering by center, for example.\n",
    "- Choosing available fields.\n",
    "- Selecting the output format (CSV or JSON).\n",
    "\n",
    "To download the data, follow step 0-2. In Step 3, you can choose one of two options:\n",
    "\n",
    "- Option 3a. Download all the data for each `parameter_stable_id` in a single file.\n",
    "- Option 3b. Download the data in separate files, with one file for each `parameter_stable_id`."
   ]
  },
  {
   "cell_type": "markdown",
   "id": "88a1803f-441e-4190-8102-576f6c010855",
   "metadata": {},
   "source": [
    "## 0. Preparation"
   ]
  },
  {
   "cell_type": "code",
   "execution_count": 1,
   "id": "38098052-ea0b-4eda-8616-2aeb956463c5",
   "metadata": {},
   "outputs": [],
   "source": [
    "# Import libraries.\n",
    "import os\n",
    "import pandas as pd \n",
    "from impc_api import solr_request, batch_solr_request"
   ]
  },
  {
   "cell_type": "code",
   "execution_count": 2,
   "id": "09e58c33-8226-4032-918b-865ff0a53021",
   "metadata": {},
   "outputs": [
    {
     "name": "stdout",
     "output_type": "stream",
     "text": [
      "Directory 'output_files/' already exists.\n"
     ]
    }
   ],
   "source": [
    "# Create directory for output files.\n",
    "output_dir = \"output_files/\"\n",
    "\n",
    "try:\n",
    "    os.mkdir(output_dir)\n",
    "    print(f\"Directory '{output_dir}' created successfully.\")\n",
    "except FileExistsError:\n",
    "    print(f\"Directory '{output_dir}' already exists.\")\n",
    "except PermissionError:\n",
    "    print(f\"Permission denied: Unable to create '{output_dir}'.\")\n",
    "except Exception as e:\n",
    "    print(f\"An error occurred: {e}\")"
   ]
  },
  {
   "cell_type": "markdown",
   "id": "708c68da-96d5-4c27-a778-2241f342796e",
   "metadata": {},
   "source": [
    "# Example of Customising a Query\n",
    "1. **Define the Dataset Requirements:** For this example, let's use a small dataset with specific filters:\n",
    "- parameter_stable_id:IMPC_OFD_020_001\n",
    "- production_center:HMGU\n",
    "- colony_id:H5183-HEPD0503_2_F12-1\n",
    "  \n",
    "2. **Select Fields to Download:** Choose specific fields from the `experiment` core to download. For instance:\n",
    "- `observation_id`\n",
    "- `data_point`\n",
    "- `metadata`\n",
    "\n",
    "You can view all available fields in the [documentation](https://www.ebi.ac.uk/mi/impc/solrdoc/). \n",
    "\n",
    "3. **Set the Output Format:** We recommend using JSON for the output format (remove `wt` from the `params` dictionary in the example to default to JSON). CSV is an option too, but note that it flattens structured data like lists and nested fields, which you’ll find in the `metadata` field (labeled as an Array type in the documentation)."
   ]
  },
  {
   "cell_type": "code",
   "execution_count": 3,
   "id": "44978a1d-09e8-47b4-85d6-5466aff133dd",
   "metadata": {},
   "outputs": [
    {
     "name": "stdout",
     "output_type": "stream",
     "text": [
      "Number of found documents: 20\n",
      "Downloading file...\n"
     ]
    },
    {
     "name": "stderr",
     "output_type": "stream",
     "text": [
      "5000it [00:00, 46509.94it/s]                                                                                              "
     ]
    },
    {
     "name": "stdout",
     "output_type": "stream",
     "text": [
      "Your request URL after the last call:https://www.ebi.ac.uk/mi/impc/solr/experiment/select?q=parameter_stable_id%3A+IMPC_OFD_020_001+AND+production_center%3AHMGU+AND+colony_id%3AH5183-HEPD0503_2_F12-1&fl=observation_id%2Cdata_point%2Cmetadata&wt=csv&start=0&rows=5000\n",
      "File saved as: output_files/test_example.csv\n",
      "Reading downloaded file...\n"
     ]
    },
    {
     "name": "stderr",
     "output_type": "stream",
     "text": [
      "\n"
     ]
    },
    {
     "name": "stdout",
     "output_type": "stream",
     "text": [
      "Number of found documents: 20\n",
      "Downloading file...\n"
     ]
    },
    {
     "name": "stderr",
     "output_type": "stream",
     "text": [
      "5000it [00:00, 45760.37it/s]                                                                                              "
     ]
    },
    {
     "name": "stdout",
     "output_type": "stream",
     "text": [
      "Your request URL after the last call:https://www.ebi.ac.uk/mi/impc/solr/experiment/select?q=parameter_stable_id%3A+IMPC_OFD_020_001+AND+production_center%3AHMGU+AND+colony_id%3AH5183-HEPD0503_2_F12-1&fl=observation_id%2Cdata_point%2Cmetadata&start=0&rows=5000&wt=json\n",
      "File saved as: output_files/test_example.json\n",
      "Reading downloaded file...\n"
     ]
    },
    {
     "name": "stderr",
     "output_type": "stream",
     "text": [
      "\n"
     ]
    }
   ],
   "source": [
    "# Save as CSV.\n",
    "df = batch_solr_request(\n",
    "    core='experiment',\n",
    "    params={\n",
    "        'q': 'parameter_stable_id: IMPC_OFD_020_001 AND production_center:HMGU AND colony_id:H5183-HEPD0503_2_F12-1',\n",
    "        'fl': 'observation_id,data_point,metadata',\n",
    "        'wt': 'csv'\n",
    "    },\n",
    "    download=True,\n",
    "    filename=output_dir + 'test_example'\n",
    ")\n",
    "\n",
    "# Save as JSON (recommended).\n",
    "df = batch_solr_request(\n",
    "    core='experiment',\n",
    "    params={\n",
    "        'q': 'parameter_stable_id: IMPC_OFD_020_001 AND production_center:HMGU AND colony_id:H5183-HEPD0503_2_F12-1',\n",
    "        'fl': 'observation_id,data_point,metadata'\n",
    "    },\n",
    "    download=True,\n",
    "    filename=output_dir + 'test_example'\n",
    ")"
   ]
  },
  {
   "cell_type": "code",
   "execution_count": 4,
   "id": "90fa8816-b62d-45a5-917f-a73bf2fb51ca",
   "metadata": {},
   "outputs": [],
   "source": [
    "# We can reload data as pandas dataframe\n",
    "df1 = pd.read_csv(\"output_files/test_example.csv\")\n",
    "df2 = pd.read_json(\"output_files/test_example.json\")"
   ]
  },
  {
   "cell_type": "markdown",
   "id": "b6aa15fa-2d9d-4e35-a22a-de314163ebf4",
   "metadata": {},
   "source": [
    "## 1. Preprocessing the File with `parameter_stable_id`s"
   ]
  },
  {
   "cell_type": "code",
   "execution_count": 5,
   "id": "d70270d2-7f4f-4b04-980a-1b02f6841671",
   "metadata": {},
   "outputs": [
    {
     "data": {
      "text/html": [
       "<div>\n",
       "<style scoped>\n",
       "    .dataframe tbody tr th:only-of-type {\n",
       "        vertical-align: middle;\n",
       "    }\n",
       "\n",
       "    .dataframe tbody tr th {\n",
       "        vertical-align: top;\n",
       "    }\n",
       "\n",
       "    .dataframe thead th {\n",
       "        text-align: right;\n",
       "    }\n",
       "</style>\n",
       "<table border=\"1\" class=\"dataframe\">\n",
       "  <thead>\n",
       "    <tr style=\"text-align: right;\">\n",
       "      <th></th>\n",
       "      <th>ID</th>\n",
       "    </tr>\n",
       "  </thead>\n",
       "  <tbody>\n",
       "    <tr>\n",
       "      <th>0</th>\n",
       "      <td>IMPC_OFD_020_001</td>\n",
       "    </tr>\n",
       "    <tr>\n",
       "      <th>1</th>\n",
       "      <td>IMPC_OFD_021_001</td>\n",
       "    </tr>\n",
       "    <tr>\n",
       "      <th>2</th>\n",
       "      <td>IMPC_OFD_022_001</td>\n",
       "    </tr>\n",
       "    <tr>\n",
       "      <th>3</th>\n",
       "      <td>IMPC_OFD_019_001</td>\n",
       "    </tr>\n",
       "    <tr>\n",
       "      <th>4</th>\n",
       "      <td>IMPC_GRS_008_001</td>\n",
       "    </tr>\n",
       "    <tr>\n",
       "      <th>...</th>\n",
       "      <td>...</td>\n",
       "    </tr>\n",
       "    <tr>\n",
       "      <th>45</th>\n",
       "      <td>IMPC_LDT_015_001</td>\n",
       "    </tr>\n",
       "    <tr>\n",
       "      <th>46</th>\n",
       "      <td>IMPC_LDT_006_001</td>\n",
       "    </tr>\n",
       "    <tr>\n",
       "      <th>47</th>\n",
       "      <td>IMPC_LDT_007_001</td>\n",
       "    </tr>\n",
       "    <tr>\n",
       "      <th>48</th>\n",
       "      <td>IMPC_LDT_008_001</td>\n",
       "    </tr>\n",
       "    <tr>\n",
       "      <th>49</th>\n",
       "      <td>IMPC_BWT_001_001</td>\n",
       "    </tr>\n",
       "  </tbody>\n",
       "</table>\n",
       "<p>50 rows × 1 columns</p>\n",
       "</div>"
      ],
      "text/plain": [
       "                   ID\n",
       "0    IMPC_OFD_020_001\n",
       "1    IMPC_OFD_021_001\n",
       "2    IMPC_OFD_022_001\n",
       "3    IMPC_OFD_019_001\n",
       "4    IMPC_GRS_008_001\n",
       "..                ...\n",
       "45   IMPC_LDT_015_001\n",
       "46   IMPC_LDT_006_001\n",
       "47   IMPC_LDT_007_001\n",
       "48   IMPC_LDT_008_001\n",
       "49   IMPC_BWT_001_001\n",
       "\n",
       "[50 rows x 1 columns]"
      ]
     },
     "metadata": {},
     "output_type": "display_data"
    }
   ],
   "source": [
    "# Read an excel file and convert into a dataframe object.\n",
    "excel_table = \"Parameters_IMPC_request_ASD_October2024.xlsx\"\n",
    "df = pd.DataFrame(pd.read_excel(\"Parameters_IMPC_request_ASD_October2024.xlsx\")) \n",
    "\n",
    "# Remove rows where 'ID' column has NaN values.\n",
    "df_cleaned = df.dropna(subset=[\"ID\"])\n",
    "\n",
    "# Remove procedure_stable_id from \"ID\" column.\n",
    "df_parameters = df_cleaned[df_cleaned['Test'].isna()]\n",
    "\n",
    "# Add weight parameter_stable_id.\n",
    "weight_data = {\"ID\": \"IMPC_BWT_001_001\", \"Test\": \"NaN\", \"Parameter\": \"Body weight\"}\n",
    "df_parameters = pd.concat([df_parameters, pd.DataFrame([weight_data])], ignore_index=True)\n",
    "\n",
    "# Drop unneeded columns.\n",
    "df_parameters = df_parameters.drop(columns=[\"Test\", \"Parameter\"])\n",
    "\n",
    "# Show the dataframe.\n",
    "display(df_parameters)"
   ]
  },
  {
   "cell_type": "markdown",
   "id": "4ffdf262-a3e0-443d-9898-3e2fe0799bc5",
   "metadata": {},
   "source": [
    "## 2. # Get `parameter_stable_ids` as a List"
   ]
  },
  {
   "cell_type": "code",
   "execution_count": 6,
   "id": "4ca901ad-7f7e-4e39-abd2-855894496f72",
   "metadata": {},
   "outputs": [],
   "source": [
    "parameters = df_parameters[\"ID\"].values.tolist()"
   ]
  },
  {
   "cell_type": "markdown",
   "id": "a8c954c4-da43-4562-a585-bc4361d32b11",
   "metadata": {},
   "source": [
    "# 3. Download the Data\n",
    "## 3a. Download All the Data for Each `parameter_stable_id` in a Single File"
   ]
  },
  {
   "cell_type": "code",
   "execution_count": null,
   "id": "c4855ab8-e8f7-4ce7-bf5d-ab48b54fb762",
   "metadata": {},
   "outputs": [],
   "source": [
    "# Download data for each parameter_stable_id in one file.\n",
    "df = batch_solr_request(\n",
    "    core='experiment',\n",
    "    params={\n",
    "        'q':'*:*',\n",
    "        'field_list': parameters,\n",
    "        'field_type': 'parameter_stable_id'\n",
    "    },\n",
    "    download = True,\n",
    "    filename=output_dir + 'all'\n",
    ")"
   ]
  },
  {
   "cell_type": "markdown",
   "id": "b83284d7-1dfa-4d2e-8bad-cb597d87b910",
   "metadata": {},
   "source": [
    "## 3b. Download the Data in Separate Files, with One File for Each `parameter_stable_id`"
   ]
  },
  {
   "cell_type": "code",
   "execution_count": null,
   "id": "280182a9-3f0d-4fd6-b4fc-21fbc38e1c13",
   "metadata": {},
   "outputs": [],
   "source": [
    "# Download data for each parameter_stable_id in a separate file.\n",
    "for parameter_stable_id in df_parameters[\"ID\"]:\n",
    "    parameter = parameter_stable_id.strip()\n",
    "    df = batch_solr_request(\n",
    "        core='experiment',\n",
    "        params={\n",
    "            'q':'parameter_stable_id:' + parameter\n",
    "        },\n",
    "        download=True,\n",
    "        filename=output_dir + parameter\n",
    "    )"
   ]
  },
  {
   "cell_type": "code",
   "execution_count": null,
   "id": "d89bd328-4cc0-4de1-a054-579d0d4d3433",
   "metadata": {},
   "outputs": [],
   "source": []
  }
 ],
 "metadata": {
  "kernelspec": {
   "display_name": "Python 3 (ipykernel)",
   "language": "python",
   "name": "python3"
  },
  "language_info": {
   "codemirror_mode": {
    "name": "ipython",
    "version": 3
   },
   "file_extension": ".py",
   "mimetype": "text/x-python",
   "name": "python",
   "nbconvert_exporter": "python",
   "pygments_lexer": "ipython3",
   "version": "3.12.4"
  }
 },
 "nbformat": 4,
 "nbformat_minor": 5
}
