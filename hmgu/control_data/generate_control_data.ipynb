{
 "cells": [
  {
   "cell_type": "code",
   "execution_count": 1,
   "id": "e4f0fb71-e0a2-46f0-8c53-115c9426355e",
   "metadata": {},
   "outputs": [],
   "source": [
    "from pathlib import Path\n",
    "import polars as pl"
   ]
  },
  {
   "cell_type": "code",
   "execution_count": 2,
   "id": "1e52e02b-3182-4cdd-aa67-f0b910486284",
   "metadata": {},
   "outputs": [],
   "source": [
    "# Calculate number of rows in initial dataframe, return df with unique rows.\n",
    "def get_unique_and_statistics(df, where=\"dataframe\"):\n",
    "    df_unique = df.unique()\n",
    "    print(f\"Number of rows {where}: {df.select(pl.len()).collect().item()}\")\n",
    "    print(f\"Number of unique rows {where}: {df_unique.select(pl.len()).collect().item()}\")\n",
    "    return df_unique\n",
    "    \n",
    "requested_columns = [\n",
    "    'allele_accession_id',\n",
    "    'gene_accession_id',\n",
    "    'external_sample_id',\n",
    "    'biological_sample_group',\n",
    "    'sex',\n",
    "    'production_center',\n",
    "    'colony_id',\n",
    "    'weight',\n",
    "    'zygosity',\n",
    "    'strain_name',\n",
    "    'date_of_experiment',\n",
    "    'metadata_group',\n",
    "    'phenotyping_center'\n",
    "]\n",
    "\n",
    "# Input files are stored on SLURM: ${KOMP_PATH}/data-releases/latest-input/dr23.0/output/observations_parquet \n",
    "input_path = Path(\"observations_parquet\")\n",
    "output_dir = Path(\"output_control/\")\n",
    "output_dir.mkdir(exist_ok=True)"
   ]
  },
  {
   "cell_type": "code",
   "execution_count": 3,
   "id": "142f141f-9968-41f4-bf68-bc91a2b56714",
   "metadata": {},
   "outputs": [
    {
     "name": "stdout",
     "output_type": "stream",
     "text": [
      "Total number of rows: 100017978\n",
      "Number of unique allele rows: 10700\n",
      "Number of unique colony_id values: 10700\n"
     ]
    }
   ],
   "source": [
    "# Prepare lazy frames for all parquet files.\n",
    "lazy_frames = [\n",
    "    pl.scan_parquet(str(file)).select(requested_columns)\n",
    "    for file in input_path.glob(\"*.parquet\")\n",
    "]\n",
    "\n",
    "# Concatenate all lazy frames.\n",
    "lazy_df = pl.concat(lazy_frames)\n",
    "\n",
    "total_rows = lazy_df.select(pl.len()).collect().item()\n",
    "print(f\"Total number of rows: {total_rows}\")\n",
    "\n",
    "# Confirm that allele_accession_id and colony_id pairs are unique.\n",
    "allele_rows = (\n",
    "    lazy_df\n",
    "    .filter(pl.col(\"allele_accession_id\").is_not_null())\n",
    "    .select([\"allele_accession_id\", \"gene_accession_id\", \"colony_id\"])\n",
    "    .unique()\n",
    ")\n",
    "\n",
    "# Count unique rows after removing duplicates.\n",
    "unique_allele_rows_count = allele_rows.unique().select(pl.len()).collect().item()\n",
    "print(f\"Number of unique allele rows: {unique_allele_rows_count}\")\n",
    "\n",
    "# Count number of unique allele_accession_id values.\n",
    "unique_allele_ids_count = allele_rows.select(pl.col(\"colony_id\").n_unique()).collect().item()\n",
    "print(f\"Number of unique colony_id values: {unique_allele_ids_count}\")"
   ]
  },
  {
   "cell_type": "code",
   "execution_count": 4,
   "id": "bfd2ecc8-9327-47ba-a1fa-de59ca5efe3c",
   "metadata": {},
   "outputs": [
    {
     "name": "stdout",
     "output_type": "stream",
     "text": [
      "Number of rows in with unknown colony_id: 13577690\n",
      "Number of unique rows in with unknown colony_id: 1069782\n"
     ]
    }
   ],
   "source": [
    "# Extract the dataframe where colony_id == 'unknown'.\n",
    "unknown_df = (\n",
    "    lazy_df\n",
    "    .filter(pl.col(\"colony_id\") == \"unknown\")\n",
    "    .rename({\n",
    "        'external_sample_id': 'specimen_id',\n",
    "        'biological_sample_group': 'group',\n",
    "        'strain_name': 'background_strain_name',\n",
    "        'date_of_experiment': 'batch'\n",
    "    })\n",
    ")\n",
    "unknown_df = get_unique_and_statistics(unknown_df, \"with unknown colony_id\")\n",
    "unique_unknown_df = unknown_df.collect()\n",
    "unique_unknown_df.write_csv(output_dir / \"control_unknown.csv\")"
   ]
  },
  {
   "cell_type": "code",
   "execution_count": 5,
   "id": "02c86af9-0aac-4a73-a726-befa5c68e494",
   "metadata": {},
   "outputs": [
    {
     "name": "stdout",
     "output_type": "stream",
     "text": [
      "Number of rows in in control group: 13622839\n",
      "Number of unique rows in in control group: 976024\n",
      "Number of rows in in experimental group: 72817449\n",
      "Number of unique rows in in experimental group: 10700\n",
      "Number of rows in in joined dataframe: 976024\n",
      "Number of unique rows in in joined dataframe: 976024\n"
     ]
    }
   ],
   "source": [
    "# Filter out rows where colony_id == 'unknown'.\n",
    "filtered_df = lazy_df.filter(pl.col(\"colony_id\") != \"unknown\")\n",
    "\n",
    "# Select rows where biological_sample_group is control.\n",
    "control_df = (\n",
    "    filtered_df\n",
    "    .filter(pl.col(\"biological_sample_group\") == \"control\")\n",
    ")\n",
    "control_df = control_df.drop([\"allele_accession_id\", \"gene_accession_id\"])\n",
    "control_df = get_unique_and_statistics(control_df, \"in control group\")\n",
    "\n",
    "# Select rows where biological_sample_group is experimental.\n",
    "experimental_df = (\n",
    "    filtered_df\n",
    "    .filter(pl.col(\"biological_sample_group\") == \"experimental\")\n",
    "    .select([\"allele_accession_id\", \"gene_accession_id\", \"colony_id\"])\n",
    ")\n",
    "experimental_df = get_unique_and_statistics(experimental_df, \"in experimental group\")\n",
    "\n",
    "# Generate output dataframe.\n",
    "joined_df = control_df.join(\n",
    "    experimental_df, \n",
    "    on=\"colony_id\", \n",
    "    how=\"left\"\n",
    ")\n",
    "\n",
    "joined_df = joined_df.rename({\n",
    "    'external_sample_id': 'specimen_id',\n",
    "    'biological_sample_group': 'group',\n",
    "    'strain_name': 'background_strain_name',\n",
    "    'date_of_experiment': 'batch'\n",
    "    })\n",
    "\n",
    "get_unique_and_statistics(joined_df, \"in joined dataframe\")\n",
    "\n",
    "out_joined_df = joined_df.collect()\n",
    "out_joined_df.write_csv(output_dir / \"control_data.csv\")"
   ]
  },
  {
   "cell_type": "code",
   "execution_count": 6,
   "id": "f6fd3e07-31f4-4eaf-bd62-e52bdd50d1f7",
   "metadata": {},
   "outputs": [
    {
     "data": {
      "text/plain": [
       "Schema([('specimen_id', String),\n",
       "        ('group', String),\n",
       "        ('sex', String),\n",
       "        ('production_center', String),\n",
       "        ('colony_id', String),\n",
       "        ('weight', String),\n",
       "        ('zygosity', String),\n",
       "        ('background_strain_name', String),\n",
       "        ('batch', String),\n",
       "        ('metadata_group', String),\n",
       "        ('phenotyping_center', String),\n",
       "        ('allele_accession_id', String),\n",
       "        ('gene_accession_id', String)])"
      ]
     },
     "execution_count": 6,
     "metadata": {},
     "output_type": "execute_result"
    }
   ],
   "source": [
    "# Print columns.\n",
    "out_joined_df.collect_schema()  "
   ]
  },
  {
   "cell_type": "code",
   "execution_count": 7,
   "id": "cf79d0b7-b766-461f-9c17-6e415c369efd",
   "metadata": {},
   "outputs": [
    {
     "data": {
      "text/html": [
       "<div><style>\n",
       ".dataframe > thead > tr,\n",
       ".dataframe > tbody > tr {\n",
       "  text-align: right;\n",
       "  white-space: pre-wrap;\n",
       "}\n",
       "</style>\n",
       "<small>shape: (3, 13)</small><table border=\"1\" class=\"dataframe\"><thead><tr><th>specimen_id</th><th>group</th><th>sex</th><th>production_center</th><th>colony_id</th><th>weight</th><th>zygosity</th><th>background_strain_name</th><th>batch</th><th>metadata_group</th><th>phenotyping_center</th><th>allele_accession_id</th><th>gene_accession_id</th></tr><tr><td>str</td><td>str</td><td>str</td><td>str</td><td>str</td><td>str</td><td>str</td><td>str</td><td>str</td><td>str</td><td>str</td><td>str</td><td>str</td></tr></thead><tbody><tr><td>&quot;106389&quot;</td><td>&quot;control&quot;</td><td>&quot;male&quot;</td><td>&quot;WTSI&quot;</td><td>&quot;baseline&quot;</td><td>&quot;26.9&quot;</td><td>&quot;homozygote&quot;</td><td>&quot;129S5;129P2&quot;</td><td>&quot;2008-11-27T00:00:00Z&quot;</td><td>&quot;bb084a221a9004828d46bdecfb7792…</td><td>&quot;WTSI&quot;</td><td>null</td><td>null</td></tr><tr><td>&quot;30426042&quot;</td><td>&quot;control&quot;</td><td>&quot;female&quot;</td><td>&quot;HMGU&quot;</td><td>&quot;baseline&quot;</td><td>&quot;23.3&quot;</td><td>&quot;homozygote&quot;</td><td>&quot;C57BL/6NCrl&quot;</td><td>&quot;2017-12-11T00:00:00Z&quot;</td><td>&quot;4ec92be8c12d97ec5279013f45c3e9…</td><td>&quot;HMGU&quot;</td><td>null</td><td>null</td></tr><tr><td>&quot;CR1126-229&quot;</td><td>&quot;control&quot;</td><td>&quot;male&quot;</td><td>&quot;UC Davis&quot;</td><td>&quot;CR1126&quot;</td><td>&quot;34.66&quot;</td><td>&quot;wildtype&quot;</td><td>&quot;C57BL/6NCrl&quot;</td><td>&quot;2017-04-25T00:00:00Z&quot;</td><td>&quot;d41d8cd98f00b204e9800998ecf842…</td><td>&quot;UC Davis&quot;</td><td>&quot;MGI:6152509&quot;</td><td>&quot;MGI:2140839&quot;</td></tr></tbody></table></div>"
      ],
      "text/plain": [
       "shape: (3, 13)\n",
       "┌────────────┬─────────┬────────┬────────────┬───┬────────────┬────────────┬───────────┬───────────┐\n",
       "│ specimen_i ┆ group   ┆ sex    ┆ production ┆ … ┆ metadata_g ┆ phenotypin ┆ allele_ac ┆ gene_acce │\n",
       "│ d          ┆ ---     ┆ ---    ┆ _center    ┆   ┆ roup       ┆ g_center   ┆ cession_i ┆ ssion_id  │\n",
       "│ ---        ┆ str     ┆ str    ┆ ---        ┆   ┆ ---        ┆ ---        ┆ d         ┆ ---       │\n",
       "│ str        ┆         ┆        ┆ str        ┆   ┆ str        ┆ str        ┆ ---       ┆ str       │\n",
       "│            ┆         ┆        ┆            ┆   ┆            ┆            ┆ str       ┆           │\n",
       "╞════════════╪═════════╪════════╪════════════╪═══╪════════════╪════════════╪═══════════╪═══════════╡\n",
       "│ 106389     ┆ control ┆ male   ┆ WTSI       ┆ … ┆ bb084a221a ┆ WTSI       ┆ null      ┆ null      │\n",
       "│            ┆         ┆        ┆            ┆   ┆ 9004828d46 ┆            ┆           ┆           │\n",
       "│            ┆         ┆        ┆            ┆   ┆ bdecfb7792 ┆            ┆           ┆           │\n",
       "│            ┆         ┆        ┆            ┆   ┆ …          ┆            ┆           ┆           │\n",
       "│ 30426042   ┆ control ┆ female ┆ HMGU       ┆ … ┆ 4ec92be8c1 ┆ HMGU       ┆ null      ┆ null      │\n",
       "│            ┆         ┆        ┆            ┆   ┆ 2d97ec5279 ┆            ┆           ┆           │\n",
       "│            ┆         ┆        ┆            ┆   ┆ 013f45c3e9 ┆            ┆           ┆           │\n",
       "│            ┆         ┆        ┆            ┆   ┆ …          ┆            ┆           ┆           │\n",
       "│ CR1126-229 ┆ control ┆ male   ┆ UC Davis   ┆ … ┆ d41d8cd98f ┆ UC Davis   ┆ MGI:61525 ┆ MGI:21408 │\n",
       "│            ┆         ┆        ┆            ┆   ┆ 00b204e980 ┆            ┆ 09        ┆ 39        │\n",
       "│            ┆         ┆        ┆            ┆   ┆ 0998ecf842 ┆            ┆           ┆           │\n",
       "│            ┆         ┆        ┆            ┆   ┆ …          ┆            ┆           ┆           │\n",
       "└────────────┴─────────┴────────┴────────────┴───┴────────────┴────────────┴───────────┴───────────┘"
      ]
     },
     "execution_count": 7,
     "metadata": {},
     "output_type": "execute_result"
    }
   ],
   "source": [
    "# Show first 3 rows.\n",
    "head_rows = joined_df.limit(3).collect()\n",
    "head_rows"
   ]
  }
 ],
 "metadata": {
  "kernelspec": {
   "display_name": "Python 3 (ipykernel)",
   "language": "python",
   "name": "python3"
  },
  "language_info": {
   "codemirror_mode": {
    "name": "ipython",
    "version": 3
   },
   "file_extension": ".py",
   "mimetype": "text/x-python",
   "name": "python",
   "nbconvert_exporter": "python",
   "pygments_lexer": "ipython3",
   "version": "3.12.4"
  }
 },
 "nbformat": 4,
 "nbformat_minor": 5
}
