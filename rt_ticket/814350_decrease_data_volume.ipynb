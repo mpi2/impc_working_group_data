{
 "cells": [
  {
   "cell_type": "code",
   "execution_count": 1,
   "id": "4be2bd13-9ec1-41ad-aecd-420ffe0bc70c",
   "metadata": {},
   "outputs": [
    {
     "name": "stdout",
     "output_type": "stream",
     "text": [
      "Requirement already satisfied: polars in /Library/Frameworks/Python.framework/Versions/3.12/lib/python3.12/site-packages (1.30.0)\n",
      "\n",
      "\u001b[1m[\u001b[0m\u001b[34;49mnotice\u001b[0m\u001b[1;39;49m]\u001b[0m\u001b[39;49m A new release of pip is available: \u001b[0m\u001b[31;49m25.0.1\u001b[0m\u001b[39;49m -> \u001b[0m\u001b[32;49m25.1.1\u001b[0m\n",
      "\u001b[1m[\u001b[0m\u001b[34;49mnotice\u001b[0m\u001b[1;39;49m]\u001b[0m\u001b[39;49m To update, run: \u001b[0m\u001b[32;49mpip install --upgrade pip\u001b[0m\n"
     ]
    }
   ],
   "source": [
    "! pip install polars"
   ]
  },
  {
   "cell_type": "code",
   "execution_count": 2,
   "id": "b7155d47-e40b-456c-9008-4295e4992f94",
   "metadata": {},
   "outputs": [],
   "source": [
    "import polars as pl"
   ]
  },
  {
   "cell_type": "code",
   "execution_count": 3,
   "id": "b8e9b68e-0571-436a-bccb-c472f223541c",
   "metadata": {},
   "outputs": [],
   "source": [
    "def read_polars_df(filename):\n",
    "    # Step 1: Read just the header\n",
    "    with open(filename, \"r\") as f:\n",
    "        headers = f.readline().strip().split(\",\")\n",
    "    \n",
    "    # Step 2: Build schema with all columns as Utf8\n",
    "    schema = {col: pl.Utf8 for col in headers}\n",
    "    \n",
    "    # Step 3: Read CSV with schema\n",
    "    df = pl.read_csv(filename, schema_overrides=schema)\n",
    "    \n",
    "    # Step 4: Drop duplicate rows\n",
    "    df = df.unique()\n",
    "    \n",
    "    return df\n",
    "\n",
    "def calculate_unique(df: pl.DataFrame, release) -> int:\n",
    "    # Drop \"_version_\" column if it exists\n",
    "    print(f\"Number of rows in initial dataset DR{release}: {df.height}\")\n",
    "    if \"_version_\" in df.columns:\n",
    "        df = df.drop(\"_version_\")\n",
    "    \n",
    "    # Remove duplicated rows\n",
    "    df = df.unique()\n",
    "    \n",
    "    # Return number of rows\n",
    "    print(f\"Number of rows without duplications DR{release}: {df.height}\\n\")\n",
    "    return df\n",
    "\n",
    "def count_procedures(df: pl.DataFrame) -> pl.DataFrame:\n",
    "    return (\n",
    "        df.group_by(\"procedure_stable_id\")\n",
    "          .agg(pl.len().alias(\"count\"))\n",
    "          .sort(\"count\", descending=True)\n",
    "    )\n",
    "\n",
    "def compare_procedure_counts(procedures_23: pl.DataFrame, procedures_22: pl.DataFrame) -> pl.DataFrame:\n",
    "    return (\n",
    "        procedures_23.rename({\"count\": \"dr_23\"})\n",
    "        .join(procedures_22.rename({\"count\": \"dr_22\"}), on=\"procedure_stable_id\", how=\"full\")\n",
    "        .with_columns([\n",
    "            pl.col(\"dr_23\").cast(pl.Int32).fill_null(0),\n",
    "            pl.col(\"dr_22\").cast(pl.Int32).fill_null(0),\n",
    "        ])\n",
    "        .with_columns(\n",
    "            (pl.col(\"dr_23\") - pl.col(\"dr_22\")).alias(\"diff\")\n",
    "        )\n",
    "        .select([\"procedure_stable_id\", \"dr_22\", \"dr_23\", \"diff\"])\n",
    "        .sort(\"diff\", descending=True)\n",
    "    )"
   ]
  },
  {
   "cell_type": "code",
   "execution_count": 4,
   "id": "5922302f-a8ca-482d-b923-ee733fa88c18",
   "metadata": {},
   "outputs": [],
   "source": [
    "df_22 = read_polars_df(\"statistical-results-ALL-22.1.csv\")\n",
    "df_23 = read_polars_df(\"statistical-results-ALL-23.0.csv\")"
   ]
  },
  {
   "cell_type": "code",
   "execution_count": 5,
   "id": "cf058132-abe7-4da2-8a2f-b8f7e9fad197",
   "metadata": {},
   "outputs": [
    {
     "name": "stdout",
     "output_type": "stream",
     "text": [
      "Number of rows in initial dataset DR22.1: 3165323\n",
      "Number of rows without duplications DR22.1: 2105158\n",
      "\n",
      "Number of rows in initial dataset DR23.0: 2159930\n",
      "Number of rows without duplications DR23.0: 2159930\n",
      "\n"
     ]
    }
   ],
   "source": [
    "df_22_unique = calculate_unique(df_22, \"22.1\")\n",
    "df_23_unique = calculate_unique(df_23, \"23.0\")"
   ]
  },
  {
   "cell_type": "code",
   "execution_count": 6,
   "id": "6b10bcb1-bec6-4d12-ab1b-2d8b41eb9427",
   "metadata": {},
   "outputs": [
    {
     "data": {
      "text/html": [
       "<div><style>\n",
       ".dataframe > thead > tr,\n",
       ".dataframe > tbody > tr {\n",
       "  text-align: right;\n",
       "  white-space: pre-wrap;\n",
       "}\n",
       "</style>\n",
       "<small>shape: (296, 4)</small><table border=\"1\" class=\"dataframe\"><thead><tr><th>procedure_stable_id</th><th>dr_22</th><th>dr_23</th><th>diff</th></tr><tr><td>str</td><td>i32</td><td>i32</td><td>i32</td></tr></thead><tbody><tr><td>&quot;IMPC_CSD_003&quot;</td><td>195724</td><td>205262</td><td>9538</td></tr><tr><td>&quot;IMPC_EYE_003&quot;</td><td>75478</td><td>81146</td><td>5668</td></tr><tr><td>&quot;IMPC_EMA_002&quot;</td><td>324</td><td>4070</td><td>3746</td></tr><tr><td>&quot;IMPC_CBC_003&quot;</td><td>83789</td><td>87192</td><td>3403</td></tr><tr><td>&quot;IMPC_HEM_002&quot;</td><td>100242</td><td>103129</td><td>2887</td></tr><tr><td>&hellip;</td><td>&hellip;</td><td>&hellip;</td><td>&hellip;</td></tr><tr><td>&quot;BCMLA_PAT_002&quot;</td><td>17635</td><td>1503</td><td>-16132</td></tr><tr><td>&quot;MGP_PBI_001&quot;</td><td>40971</td><td>21625</td><td>-19346</td></tr><tr><td>&quot;UCDLA_PAT_002&quot;</td><td>24049</td><td>3623</td><td>-20426</td></tr><tr><td>&quot;HRWLLA_PAT_002&quot;</td><td>30420</td><td>3822</td><td>-26598</td></tr><tr><td>&quot;IMPC_PAT_002&quot;</td><td>1129673</td><td>175771</td><td>-953902</td></tr></tbody></table></div>"
      ],
      "text/plain": [
       "shape: (296, 4)\n",
       "┌─────────────────────┬─────────┬────────┬─────────┐\n",
       "│ procedure_stable_id ┆ dr_22   ┆ dr_23  ┆ diff    │\n",
       "│ ---                 ┆ ---     ┆ ---    ┆ ---     │\n",
       "│ str                 ┆ i32     ┆ i32    ┆ i32     │\n",
       "╞═════════════════════╪═════════╪════════╪═════════╡\n",
       "│ IMPC_CSD_003        ┆ 195724  ┆ 205262 ┆ 9538    │\n",
       "│ IMPC_EYE_003        ┆ 75478   ┆ 81146  ┆ 5668    │\n",
       "│ IMPC_EMA_002        ┆ 324     ┆ 4070   ┆ 3746    │\n",
       "│ IMPC_CBC_003        ┆ 83789   ┆ 87192  ┆ 3403    │\n",
       "│ IMPC_HEM_002        ┆ 100242  ┆ 103129 ┆ 2887    │\n",
       "│ …                   ┆ …       ┆ …      ┆ …       │\n",
       "│ BCMLA_PAT_002       ┆ 17635   ┆ 1503   ┆ -16132  │\n",
       "│ MGP_PBI_001         ┆ 40971   ┆ 21625  ┆ -19346  │\n",
       "│ UCDLA_PAT_002       ┆ 24049   ┆ 3623   ┆ -20426  │\n",
       "│ HRWLLA_PAT_002      ┆ 30420   ┆ 3822   ┆ -26598  │\n",
       "│ IMPC_PAT_002        ┆ 1129673 ┆ 175771 ┆ -953902 │\n",
       "└─────────────────────┴─────────┴────────┴─────────┘"
      ]
     },
     "execution_count": 6,
     "metadata": {},
     "output_type": "execute_result"
    }
   ],
   "source": [
    "procedures_22 = count_procedures(df_22)\n",
    "procedures_23 = count_procedures(df_23)\n",
    "comparison = compare_procedure_counts(procedures_23, procedures_22)\n",
    "comparison.write_csv(\"procedure_comparison.csv\")\n",
    "\n",
    "compare_procedure_counts(procedures_23, procedures_22)"
   ]
  }
 ],
 "metadata": {
  "kernelspec": {
   "display_name": "Python 3 (ipykernel)",
   "language": "python",
   "name": "python3"
  },
  "language_info": {
   "codemirror_mode": {
    "name": "ipython",
    "version": 3
   },
   "file_extension": ".py",
   "mimetype": "text/x-python",
   "name": "python",
   "nbconvert_exporter": "python",
   "pygments_lexer": "ipython3",
   "version": "3.12.4"
  }
 },
 "nbformat": 4,
 "nbformat_minor": 5
}
